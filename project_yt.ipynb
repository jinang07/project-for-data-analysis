{
 "cells": [
  {
   "cell_type": "code",
   "execution_count": 2,
   "id": "326c86fc",
   "metadata": {},
   "outputs": [],
   "source": [
    "import pandas as pd\n",
    "import matplotlib.pyplot as plt\n",
    "import numpy as np"
   ]
  },
  {
   "cell_type": "code",
   "execution_count": 3,
   "id": "090a59ca",
   "metadata": {},
   "outputs": [
    {
     "data": {
      "text/html": [
       "<div>\n",
       "<style scoped>\n",
       "    .dataframe tbody tr th:only-of-type {\n",
       "        vertical-align: middle;\n",
       "    }\n",
       "\n",
       "    .dataframe tbody tr th {\n",
       "        vertical-align: top;\n",
       "    }\n",
       "\n",
       "    .dataframe thead th {\n",
       "        text-align: right;\n",
       "    }\n",
       "</style>\n",
       "<table border=\"1\" class=\"dataframe\">\n",
       "  <thead>\n",
       "    <tr style=\"text-align: right;\">\n",
       "      <th></th>\n",
       "      <th>video_id</th>\n",
       "      <th>trending_date</th>\n",
       "      <th>title</th>\n",
       "      <th>channel_title</th>\n",
       "      <th>category_id</th>\n",
       "      <th>publish_time</th>\n",
       "      <th>tags</th>\n",
       "      <th>views</th>\n",
       "      <th>likes</th>\n",
       "      <th>dislikes</th>\n",
       "      <th>comment_count</th>\n",
       "      <th>thumbnail_link</th>\n",
       "      <th>comments_disabled</th>\n",
       "      <th>ratings_disabled</th>\n",
       "      <th>video_error_or_removed</th>\n",
       "      <th>description</th>\n",
       "    </tr>\n",
       "  </thead>\n",
       "  <tbody>\n",
       "    <tr>\n",
       "      <th>0</th>\n",
       "      <td>n1WpP7iowLc</td>\n",
       "      <td>17.14.11</td>\n",
       "      <td>Eminem - Walk On Water (Audio) ft. Beyoncé</td>\n",
       "      <td>EminemVEVO</td>\n",
       "      <td>10</td>\n",
       "      <td>2017-11-10T17:00:03.000Z</td>\n",
       "      <td>Eminem|\"Walk\"|\"On\"|\"Water\"|\"Aftermath/Shady/In...</td>\n",
       "      <td>17158579</td>\n",
       "      <td>787425</td>\n",
       "      <td>43420</td>\n",
       "      <td>125882</td>\n",
       "      <td>https://i.ytimg.com/vi/n1WpP7iowLc/default.jpg</td>\n",
       "      <td>False</td>\n",
       "      <td>False</td>\n",
       "      <td>False</td>\n",
       "      <td>Eminem's new track Walk on Water ft. Beyoncé i...</td>\n",
       "    </tr>\n",
       "    <tr>\n",
       "      <th>1</th>\n",
       "      <td>0dBIkQ4Mz1M</td>\n",
       "      <td>17.14.11</td>\n",
       "      <td>PLUSH - Bad Unboxing Fan Mail</td>\n",
       "      <td>iDubbbzTV</td>\n",
       "      <td>23</td>\n",
       "      <td>2017-11-13T17:00:00.000Z</td>\n",
       "      <td>plush|\"bad unboxing\"|\"unboxing\"|\"fan mail\"|\"id...</td>\n",
       "      <td>1014651</td>\n",
       "      <td>127794</td>\n",
       "      <td>1688</td>\n",
       "      <td>13030</td>\n",
       "      <td>https://i.ytimg.com/vi/0dBIkQ4Mz1M/default.jpg</td>\n",
       "      <td>False</td>\n",
       "      <td>False</td>\n",
       "      <td>False</td>\n",
       "      <td>STill got a lot of packages. Probably will las...</td>\n",
       "    </tr>\n",
       "    <tr>\n",
       "      <th>2</th>\n",
       "      <td>5qpjK5DgCt4</td>\n",
       "      <td>17.14.11</td>\n",
       "      <td>Racist Superman | Rudy Mancuso, King Bach &amp; Le...</td>\n",
       "      <td>Rudy Mancuso</td>\n",
       "      <td>23</td>\n",
       "      <td>2017-11-12T19:05:24.000Z</td>\n",
       "      <td>racist superman|\"rudy\"|\"mancuso\"|\"king\"|\"bach\"...</td>\n",
       "      <td>3191434</td>\n",
       "      <td>146035</td>\n",
       "      <td>5339</td>\n",
       "      <td>8181</td>\n",
       "      <td>https://i.ytimg.com/vi/5qpjK5DgCt4/default.jpg</td>\n",
       "      <td>False</td>\n",
       "      <td>False</td>\n",
       "      <td>False</td>\n",
       "      <td>WATCH MY PREVIOUS VIDEO ▶ \\n\\nSUBSCRIBE ► http...</td>\n",
       "    </tr>\n",
       "    <tr>\n",
       "      <th>3</th>\n",
       "      <td>d380meD0W0M</td>\n",
       "      <td>17.14.11</td>\n",
       "      <td>I Dare You: GOING BALD!?</td>\n",
       "      <td>nigahiga</td>\n",
       "      <td>24</td>\n",
       "      <td>2017-11-12T18:01:41.000Z</td>\n",
       "      <td>ryan|\"higa\"|\"higatv\"|\"nigahiga\"|\"i dare you\"|\"...</td>\n",
       "      <td>2095828</td>\n",
       "      <td>132239</td>\n",
       "      <td>1989</td>\n",
       "      <td>17518</td>\n",
       "      <td>https://i.ytimg.com/vi/d380meD0W0M/default.jpg</td>\n",
       "      <td>False</td>\n",
       "      <td>False</td>\n",
       "      <td>False</td>\n",
       "      <td>I know it's been a while since we did this sho...</td>\n",
       "    </tr>\n",
       "    <tr>\n",
       "      <th>4</th>\n",
       "      <td>2Vv-BfVoq4g</td>\n",
       "      <td>17.14.11</td>\n",
       "      <td>Ed Sheeran - Perfect (Official Music Video)</td>\n",
       "      <td>Ed Sheeran</td>\n",
       "      <td>10</td>\n",
       "      <td>2017-11-09T11:04:14.000Z</td>\n",
       "      <td>edsheeran|\"ed sheeran\"|\"acoustic\"|\"live\"|\"cove...</td>\n",
       "      <td>33523622</td>\n",
       "      <td>1634130</td>\n",
       "      <td>21082</td>\n",
       "      <td>85067</td>\n",
       "      <td>https://i.ytimg.com/vi/2Vv-BfVoq4g/default.jpg</td>\n",
       "      <td>False</td>\n",
       "      <td>False</td>\n",
       "      <td>False</td>\n",
       "      <td>🎧: https://ad.gt/yt-perfect\\n💰: https://atlant...</td>\n",
       "    </tr>\n",
       "  </tbody>\n",
       "</table>\n",
       "</div>"
      ],
      "text/plain": [
       "      video_id trending_date  \\\n",
       "0  n1WpP7iowLc      17.14.11   \n",
       "1  0dBIkQ4Mz1M      17.14.11   \n",
       "2  5qpjK5DgCt4      17.14.11   \n",
       "3  d380meD0W0M      17.14.11   \n",
       "4  2Vv-BfVoq4g      17.14.11   \n",
       "\n",
       "                                               title channel_title  \\\n",
       "0         Eminem - Walk On Water (Audio) ft. Beyoncé    EminemVEVO   \n",
       "1                      PLUSH - Bad Unboxing Fan Mail     iDubbbzTV   \n",
       "2  Racist Superman | Rudy Mancuso, King Bach & Le...  Rudy Mancuso   \n",
       "3                           I Dare You: GOING BALD!?      nigahiga   \n",
       "4        Ed Sheeran - Perfect (Official Music Video)    Ed Sheeran   \n",
       "\n",
       "   category_id              publish_time  \\\n",
       "0           10  2017-11-10T17:00:03.000Z   \n",
       "1           23  2017-11-13T17:00:00.000Z   \n",
       "2           23  2017-11-12T19:05:24.000Z   \n",
       "3           24  2017-11-12T18:01:41.000Z   \n",
       "4           10  2017-11-09T11:04:14.000Z   \n",
       "\n",
       "                                                tags     views    likes  \\\n",
       "0  Eminem|\"Walk\"|\"On\"|\"Water\"|\"Aftermath/Shady/In...  17158579   787425   \n",
       "1  plush|\"bad unboxing\"|\"unboxing\"|\"fan mail\"|\"id...   1014651   127794   \n",
       "2  racist superman|\"rudy\"|\"mancuso\"|\"king\"|\"bach\"...   3191434   146035   \n",
       "3  ryan|\"higa\"|\"higatv\"|\"nigahiga\"|\"i dare you\"|\"...   2095828   132239   \n",
       "4  edsheeran|\"ed sheeran\"|\"acoustic\"|\"live\"|\"cove...  33523622  1634130   \n",
       "\n",
       "   dislikes  comment_count                                  thumbnail_link  \\\n",
       "0     43420         125882  https://i.ytimg.com/vi/n1WpP7iowLc/default.jpg   \n",
       "1      1688          13030  https://i.ytimg.com/vi/0dBIkQ4Mz1M/default.jpg   \n",
       "2      5339           8181  https://i.ytimg.com/vi/5qpjK5DgCt4/default.jpg   \n",
       "3      1989          17518  https://i.ytimg.com/vi/d380meD0W0M/default.jpg   \n",
       "4     21082          85067  https://i.ytimg.com/vi/2Vv-BfVoq4g/default.jpg   \n",
       "\n",
       "   comments_disabled  ratings_disabled  video_error_or_removed  \\\n",
       "0              False             False                   False   \n",
       "1              False             False                   False   \n",
       "2              False             False                   False   \n",
       "3              False             False                   False   \n",
       "4              False             False                   False   \n",
       "\n",
       "                                         description  \n",
       "0  Eminem's new track Walk on Water ft. Beyoncé i...  \n",
       "1  STill got a lot of packages. Probably will las...  \n",
       "2  WATCH MY PREVIOUS VIDEO ▶ \\n\\nSUBSCRIBE ► http...  \n",
       "3  I know it's been a while since we did this sho...  \n",
       "4  🎧: https://ad.gt/yt-perfect\\n💰: https://atlant...  "
      ]
     },
     "execution_count": 3,
     "metadata": {},
     "output_type": "execute_result"
    }
   ],
   "source": [
    "yt = pd.read_csv('CAvideos.csv' )\n",
    "yt.head()"
   ]
  },
  {
   "cell_type": "code",
   "execution_count": 4,
   "id": "c03ffc6f",
   "metadata": {},
   "outputs": [],
   "source": [
    "yt['years'] = yt['publish_time'].str.slice(0,4)"
   ]
  },
  {
   "cell_type": "code",
   "execution_count": 22,
   "id": "b3767f84",
   "metadata": {},
   "outputs": [
    {
     "name": "stdout",
     "output_type": "stream",
     "text": [
      "   years  category_id  count\n",
      "39  2018           24  10327\n",
      "40  2018           25   3245\n",
      "41  2018           22   3051\n",
      "42  2018           10   2813\n",
      "43  2018           23   2711\n",
      "44  2018           17   2158\n",
      "45  2018            1   1552\n",
      "46  2018           26   1545\n",
      "47  2018           20    980\n",
      "48  2018           28    856\n",
      "49  2018           27    723\n",
      "50  2018           19    285\n",
      "51  2018            2    280\n",
      "52  2018           15    269\n",
      "53  2018           43     82\n",
      "54  2018           29     53\n",
      "55  2018           30      6\n",
      "23  2017           24   3117\n",
      "24  2017           23   1055\n",
      "25  2017           22   1049\n",
      "26  2017           10    913\n",
      "27  2017           25    912\n",
      "28  2017           17    629\n",
      "29  2017            1    500\n",
      "30  2017           26    462\n",
      "31  2017           20    363\n",
      "32  2017           28    296\n",
      "33  2017           27    265\n",
      "34  2017           19    107\n",
      "35  2017           15    100\n",
      "36  2017            2     71\n",
      "37  2017           43     42\n",
      "38  2017           29     19\n",
      "17  2016           24      3\n",
      "18  2016           27      3\n",
      "19  2016            2      2\n",
      "20  2016           23      2\n",
      "21  2016           29      2\n",
      "22  2016           10      1\n",
      "13  2015            1      2\n",
      "14  2015           22      2\n",
      "15  2015           25      2\n",
      "16  2015           10      1\n",
      "9   2014            1      2\n",
      "10  2014           23      2\n",
      "11  2014           10      1\n",
      "12  2014           22      1\n",
      "5   2013            1      3\n",
      "6   2013           24      3\n",
      "7   2013           22      2\n",
      "8   2013           20      1\n",
      "4   2012           24      1\n",
      "3   2010           28      3\n",
      "2   2009            1      1\n",
      "0   2008           23      3\n",
      "1   2008           10      2\n"
     ]
    },
    {
     "data": {
      "text/plain": [
       "<BarContainer object of 56 artists>"
      ]
     },
     "execution_count": 22,
     "metadata": {},
     "output_type": "execute_result"
    },
    {
     "data": {
      "image/png": "[encoded data removed]",
      "text/plain": [
       "<Figure size 640x480 with 1 Axes>"
      ]
     },
     "metadata": {},
     "output_type": "display_data"
    }
   ],
   "source": [
    "a = yt.groupby('years')['category_id'].value_counts().reset_index().sort_values(by=['years' , 'count'] , ascending=False)\n",
    "print(a)\n",
    "plt.barh(a['years'] , a['count'])"
   ]
  },
  {
   "cell_type": "code",
   "execution_count": 6,
   "id": "0c13a178",
   "metadata": {},
   "outputs": [
    {
     "name": "stdout",
     "output_type": "stream",
     "text": [
      "<class 'pandas.core.frame.DataFrame'>\n",
      "RangeIndex: 40881 entries, 0 to 40880\n",
      "Data columns (total 17 columns):\n",
      " #   Column                  Non-Null Count  Dtype \n",
      "---  ------                  --------------  ----- \n",
      " 0   video_id                40881 non-null  object\n",
      " 1   trending_date           40881 non-null  object\n",
      " 2   title                   40881 non-null  object\n",
      " 3   channel_title           40881 non-null  object\n",
      " 4   category_id             40881 non-null  int64 \n",
      " 5   publish_time            40881 non-null  object\n",
      " 6   tags                    40881 non-null  object\n",
      " 7   views                   40881 non-null  int64 \n",
      " 8   likes                   40881 non-null  int64 \n",
      " 9   dislikes                40881 non-null  int64 \n",
      " 10  comment_count           40881 non-null  int64 \n",
      " 11  thumbnail_link          40881 non-null  object\n",
      " 12  comments_disabled       40881 non-null  bool  \n",
      " 13  ratings_disabled        40881 non-null  bool  \n",
      " 14  video_error_or_removed  40881 non-null  bool  \n",
      " 15  description             39585 non-null  object\n",
      " 16  years                   40881 non-null  object\n",
      "dtypes: bool(3), int64(5), object(9)\n",
      "memory usage: 4.5+ MB\n"
     ]
    }
   ],
   "source": [
    "yt.info()"
   ]
  },
  {
   "cell_type": "code",
   "execution_count": 7,
   "id": "b4bb8c24",
   "metadata": {},
   "outputs": [
    {
     "data": {
      "text/plain": [
       "video_id                     0\n",
       "trending_date                0\n",
       "title                        0\n",
       "channel_title                0\n",
       "category_id                  0\n",
       "publish_time                 0\n",
       "tags                         0\n",
       "views                        0\n",
       "likes                        0\n",
       "dislikes                     0\n",
       "comment_count                0\n",
       "thumbnail_link               0\n",
       "comments_disabled            0\n",
       "ratings_disabled             0\n",
       "video_error_or_removed       0\n",
       "description               1296\n",
       "years                        0\n",
       "dtype: int64"
      ]
     },
     "execution_count": 7,
     "metadata": {},
     "output_type": "execute_result"
    }
   ],
   "source": [
    "a = yt.isnull().sum()\n",
    "a"
   ]
  },
  {
   "cell_type": "code",
   "execution_count": 8,
   "id": "6506f828",
   "metadata": {},
   "outputs": [],
   "source": [
    "yt.drop_duplicates(inplace=True)"
   ]
  },
  {
   "cell_type": "code",
   "execution_count": 9,
   "id": "94fd2b4e",
   "metadata": {},
   "outputs": [
    {
     "data": {
      "text/plain": [
       "0       2017-11-10 17:00:03+00:00\n",
       "1       2017-11-13 17:00:00+00:00\n",
       "2       2017-11-12 19:05:24+00:00\n",
       "3       2017-11-12 18:01:41+00:00\n",
       "4       2017-11-09 11:04:14+00:00\n",
       "                   ...           \n",
       "40876   2018-06-13 18:00:07+00:00\n",
       "40877   2018-06-13 19:01:18+00:00\n",
       "40878   2018-06-11 17:30:53+00:00\n",
       "40879   2018-06-13 04:00:05+00:00\n",
       "40880   2018-06-13 16:00:03+00:00\n",
       "Name: publish_time, Length: 40881, dtype: datetime64[ns, UTC]"
      ]
     },
     "execution_count": 9,
     "metadata": {},
     "output_type": "execute_result"
    }
   ],
   "source": [
    "yt['publish_time'] = pd.to_datetime(yt['publish_time'])\n",
    "yt['publish_time']"
   ]
  },
  {
   "cell_type": "code",
   "execution_count": 10,
   "id": "cb6636e5",
   "metadata": {},
   "outputs": [
    {
     "data": {
      "text/plain": [
       "video_id                  0\n",
       "trending_date             0\n",
       "title                     0\n",
       "channel_title             0\n",
       "category_id               0\n",
       "publish_time              0\n",
       "tags                      0\n",
       "views                     0\n",
       "likes                     0\n",
       "dislikes                  0\n",
       "comment_count             0\n",
       "thumbnail_link            0\n",
       "comments_disabled         0\n",
       "ratings_disabled          0\n",
       "video_error_or_removed    0\n",
       "description               0\n",
       "years                     0\n",
       "dtype: int64"
      ]
     },
     "execution_count": 10,
     "metadata": {},
     "output_type": "execute_result"
    }
   ],
   "source": [
    "yt['description'] = yt['description'].fillna('description not available')\n",
    "yt.isnull().sum()"
   ]
  },
  {
   "cell_type": "code",
   "execution_count": 11,
   "id": "2baf08c1",
   "metadata": {},
   "outputs": [],
   "source": [
    "yt.drop(columns=['comments_disabled' , 'ratings_disabled' , 'video_error_or_removed'] , inplace=True)"
   ]
  },
  {
   "cell_type": "code",
   "execution_count": 12,
   "id": "08736bfd",
   "metadata": {},
   "outputs": [
    {
     "data": {
      "text/plain": [
       "0         18.135076\n",
       "1         75.707346\n",
       "2         27.352500\n",
       "3         66.485168\n",
       "4         77.513044\n",
       "            ...    \n",
       "40876     17.181818\n",
       "40877      6.969697\n",
       "40878    115.625000\n",
       "40879     11.620879\n",
       "40880      4.838710\n",
       "Length: 40881, dtype: float64"
      ]
     },
     "execution_count": 12,
     "metadata": {},
     "output_type": "execute_result"
    }
   ],
   "source": [
    "# liked per disliked ratio\n",
    "likes_disliked_ratio = yt['likes'] / yt['dislikes']\n",
    "likes_disliked_ratio"
   ]
  },
  {
   "cell_type": "code",
   "execution_count": 13,
   "id": "1053e818",
   "metadata": {},
   "outputs": [
    {
     "data": {
      "text/plain": [
       "0         21.790747\n",
       "1          7.939739\n",
       "2         21.853898\n",
       "3         15.848789\n",
       "4         20.514660\n",
       "            ...    \n",
       "40876     47.433862\n",
       "40877    224.650000\n",
       "40878     29.858958\n",
       "40879     54.479905\n",
       "40880    357.973333\n",
       "Length: 40881, dtype: float64"
      ]
     },
     "execution_count": 13,
     "metadata": {},
     "output_type": "execute_result"
    }
   ],
   "source": [
    "#view per liked ratio\n",
    "view_likes_ratio = yt['views'] / yt['likes']\n",
    "view_likes_ratio"
   ]
  },
  {
   "cell_type": "code",
   "execution_count": 14,
   "id": "b44b2281",
   "metadata": {},
   "outputs": [
    {
     "data": {
      "text/plain": [
       "0         136.306851\n",
       "1          77.870376\n",
       "2         390.103166\n",
       "3         119.638543\n",
       "4         394.084921\n",
       "            ...     \n",
       "40876      61.497713\n",
       "40877    2026.254902\n",
       "40878     199.264880\n",
       "40879      68.914474\n",
       "40880     427.856574\n",
       "Length: 40881, dtype: float64"
      ]
     },
     "execution_count": 14,
     "metadata": {},
     "output_type": "execute_result"
    }
   ],
   "source": [
    "#view per comment ratio\n",
    "view_comment_ratio = yt['views'] / yt['comment_count']\n",
    "view_comment_ratio\n",
    "#the ratio of how many person view video and comment on it"
   ]
  },
  {
   "cell_type": "code",
   "execution_count": 15,
   "id": "24407473",
   "metadata": {},
   "outputs": [
    {
     "data": {
      "text/html": [
       "<div>\n",
       "<style scoped>\n",
       "    .dataframe tbody tr th:only-of-type {\n",
       "        vertical-align: middle;\n",
       "    }\n",
       "\n",
       "    .dataframe tbody tr th {\n",
       "        vertical-align: top;\n",
       "    }\n",
       "\n",
       "    .dataframe thead th {\n",
       "        text-align: right;\n",
       "    }\n",
       "</style>\n",
       "<table border=\"1\" class=\"dataframe\">\n",
       "  <thead>\n",
       "    <tr style=\"text-align: right;\">\n",
       "      <th></th>\n",
       "      <th>title</th>\n",
       "      <th>views</th>\n",
       "      <th>trending_date</th>\n",
       "      <th>publish_time</th>\n",
       "    </tr>\n",
       "  </thead>\n",
       "  <tbody>\n",
       "    <tr>\n",
       "      <th>5900</th>\n",
       "      <td>YouTube Rewind: The Shape of 2017 | #YouTubeRe...</td>\n",
       "      <td>137843120</td>\n",
       "      <td>17.13.12</td>\n",
       "      <td>2017-12-06 17:58:51+00:00</td>\n",
       "    </tr>\n",
       "    <tr>\n",
       "      <th>5623</th>\n",
       "      <td>YouTube Rewind: The Shape of 2017 | #YouTubeRe...</td>\n",
       "      <td>125431369</td>\n",
       "      <td>17.12.12</td>\n",
       "      <td>2017-12-06 17:58:51+00:00</td>\n",
       "    </tr>\n",
       "    <tr>\n",
       "      <th>5398</th>\n",
       "      <td>YouTube Rewind: The Shape of 2017 | #YouTubeRe...</td>\n",
       "      <td>113876217</td>\n",
       "      <td>17.11.12</td>\n",
       "      <td>2017-12-06 17:58:51+00:00</td>\n",
       "    </tr>\n",
       "    <tr>\n",
       "      <th>5197</th>\n",
       "      <td>YouTube Rewind: The Shape of 2017 | #YouTubeRe...</td>\n",
       "      <td>100911567</td>\n",
       "      <td>17.10.12</td>\n",
       "      <td>2017-12-06 17:58:51+00:00</td>\n",
       "    </tr>\n",
       "    <tr>\n",
       "      <th>34361</th>\n",
       "      <td>Childish Gambino - This Is America (Official V...</td>\n",
       "      <td>98938809</td>\n",
       "      <td>18.13.05</td>\n",
       "      <td>2018-05-06 04:00:07+00:00</td>\n",
       "    </tr>\n",
       "    <tr>\n",
       "      <th>...</th>\n",
       "      <td>...</td>\n",
       "      <td>...</td>\n",
       "      <td>...</td>\n",
       "      <td>...</td>\n",
       "    </tr>\n",
       "    <tr>\n",
       "      <th>579</th>\n",
       "      <td>018 Algebra Lineal 18-10-2011</td>\n",
       "      <td>1141</td>\n",
       "      <td>17.16.11</td>\n",
       "      <td>2017-11-15 18:20:06+00:00</td>\n",
       "    </tr>\n",
       "    <tr>\n",
       "      <th>20505</th>\n",
       "      <td>Simon Olivier Fecteau créateur des derniers By...</td>\n",
       "      <td>1107</td>\n",
       "      <td>18.26.02</td>\n",
       "      <td>2018-02-26 03:18:13+00:00</td>\n",
       "    </tr>\n",
       "    <tr>\n",
       "      <th>18076</th>\n",
       "      <td>Raptors Post-Game: DeMar DeRozan - February 13...</td>\n",
       "      <td>1023</td>\n",
       "      <td>18.14.02</td>\n",
       "      <td>2018-02-14 03:32:57+00:00</td>\n",
       "    </tr>\n",
       "    <tr>\n",
       "      <th>18045</th>\n",
       "      <td>Canadian Olympian receives death threats from ...</td>\n",
       "      <td>1000</td>\n",
       "      <td>18.14.02</td>\n",
       "      <td>2018-02-14 03:45:33+00:00</td>\n",
       "    </tr>\n",
       "    <tr>\n",
       "      <th>34625</th>\n",
       "      <td>''Gala Artis 2018'' Le numéro d'ouverture</td>\n",
       "      <td>733</td>\n",
       "      <td>18.14.05</td>\n",
       "      <td>2018-05-14 00:43:35+00:00</td>\n",
       "    </tr>\n",
       "  </tbody>\n",
       "</table>\n",
       "<p>40881 rows × 4 columns</p>\n",
       "</div>"
      ],
      "text/plain": [
       "                                                   title      views  \\\n",
       "5900   YouTube Rewind: The Shape of 2017 | #YouTubeRe...  137843120   \n",
       "5623   YouTube Rewind: The Shape of 2017 | #YouTubeRe...  125431369   \n",
       "5398   YouTube Rewind: The Shape of 2017 | #YouTubeRe...  113876217   \n",
       "5197   YouTube Rewind: The Shape of 2017 | #YouTubeRe...  100911567   \n",
       "34361  Childish Gambino - This Is America (Official V...   98938809   \n",
       "...                                                  ...        ...   \n",
       "579                        018 Algebra Lineal 18-10-2011       1141   \n",
       "20505  Simon Olivier Fecteau créateur des derniers By...       1107   \n",
       "18076  Raptors Post-Game: DeMar DeRozan - February 13...       1023   \n",
       "18045  Canadian Olympian receives death threats from ...       1000   \n",
       "34625          ''Gala Artis 2018'' Le numéro d'ouverture        733   \n",
       "\n",
       "      trending_date              publish_time  \n",
       "5900       17.13.12 2017-12-06 17:58:51+00:00  \n",
       "5623       17.12.12 2017-12-06 17:58:51+00:00  \n",
       "5398       17.11.12 2017-12-06 17:58:51+00:00  \n",
       "5197       17.10.12 2017-12-06 17:58:51+00:00  \n",
       "34361      18.13.05 2018-05-06 04:00:07+00:00  \n",
       "...             ...                       ...  \n",
       "579        17.16.11 2017-11-15 18:20:06+00:00  \n",
       "20505      18.26.02 2018-02-26 03:18:13+00:00  \n",
       "18076      18.14.02 2018-02-14 03:32:57+00:00  \n",
       "18045      18.14.02 2018-02-14 03:45:33+00:00  \n",
       "34625      18.14.05 2018-05-14 00:43:35+00:00  \n",
       "\n",
       "[40881 rows x 4 columns]"
      ]
     },
     "execution_count": 15,
     "metadata": {},
     "output_type": "execute_result"
    }
   ],
   "source": [
    "#highest views by trending videos\n",
    "mask = yt[['title' , 'views' , 'trending_date' , 'publish_time']]\n",
    "mask.sort_values(by='views' , ascending=False )"
   ]
  },
  {
   "cell_type": "code",
   "execution_count": 16,
   "id": "e3ff82b5",
   "metadata": {},
   "outputs": [
    {
     "data": {
      "text/html": [
       "<div>\n",
       "<style scoped>\n",
       "    .dataframe tbody tr th:only-of-type {\n",
       "        vertical-align: middle;\n",
       "    }\n",
       "\n",
       "    .dataframe tbody tr th {\n",
       "        vertical-align: top;\n",
       "    }\n",
       "\n",
       "    .dataframe thead th {\n",
       "        text-align: right;\n",
       "    }\n",
       "</style>\n",
       "<table border=\"1\" class=\"dataframe\">\n",
       "  <thead>\n",
       "    <tr style=\"text-align: right;\">\n",
       "      <th></th>\n",
       "      <th>category_id</th>\n",
       "      <th>views</th>\n",
       "    </tr>\n",
       "  </thead>\n",
       "  <tbody>\n",
       "    <tr>\n",
       "      <th>9</th>\n",
       "      <td>24</td>\n",
       "      <td>13671215509</td>\n",
       "    </tr>\n",
       "    <tr>\n",
       "      <th>2</th>\n",
       "      <td>10</td>\n",
       "      <td>13179850194</td>\n",
       "    </tr>\n",
       "    <tr>\n",
       "      <th>8</th>\n",
       "      <td>23</td>\n",
       "      <td>3708438785</td>\n",
       "    </tr>\n",
       "    <tr>\n",
       "      <th>7</th>\n",
       "      <td>22</td>\n",
       "      <td>3228227926</td>\n",
       "    </tr>\n",
       "    <tr>\n",
       "      <th>4</th>\n",
       "      <td>17</td>\n",
       "      <td>2997652188</td>\n",
       "    </tr>\n",
       "    <tr>\n",
       "      <th>0</th>\n",
       "      <td>1</td>\n",
       "      <td>2939060844</td>\n",
       "    </tr>\n",
       "    <tr>\n",
       "      <th>10</th>\n",
       "      <td>25</td>\n",
       "      <td>1614610043</td>\n",
       "    </tr>\n",
       "    <tr>\n",
       "      <th>11</th>\n",
       "      <td>26</td>\n",
       "      <td>1570846611</td>\n",
       "    </tr>\n",
       "    <tr>\n",
       "      <th>13</th>\n",
       "      <td>28</td>\n",
       "      <td>1425090421</td>\n",
       "    </tr>\n",
       "    <tr>\n",
       "      <th>6</th>\n",
       "      <td>20</td>\n",
       "      <td>1241532385</td>\n",
       "    </tr>\n",
       "    <tr>\n",
       "      <th>12</th>\n",
       "      <td>27</td>\n",
       "      <td>531773343</td>\n",
       "    </tr>\n",
       "    <tr>\n",
       "      <th>3</th>\n",
       "      <td>15</td>\n",
       "      <td>235592173</td>\n",
       "    </tr>\n",
       "    <tr>\n",
       "      <th>1</th>\n",
       "      <td>2</td>\n",
       "      <td>200066074</td>\n",
       "    </tr>\n",
       "    <tr>\n",
       "      <th>5</th>\n",
       "      <td>19</td>\n",
       "      <td>143746952</td>\n",
       "    </tr>\n",
       "    <tr>\n",
       "      <th>14</th>\n",
       "      <td>29</td>\n",
       "      <td>115601623</td>\n",
       "    </tr>\n",
       "    <tr>\n",
       "      <th>16</th>\n",
       "      <td>43</td>\n",
       "      <td>71549508</td>\n",
       "    </tr>\n",
       "    <tr>\n",
       "      <th>15</th>\n",
       "      <td>30</td>\n",
       "      <td>17120490</td>\n",
       "    </tr>\n",
       "  </tbody>\n",
       "</table>\n",
       "</div>"
      ],
      "text/plain": [
       "    category_id        views\n",
       "9            24  13671215509\n",
       "2            10  13179850194\n",
       "8            23   3708438785\n",
       "7            22   3228227926\n",
       "4            17   2997652188\n",
       "0             1   2939060844\n",
       "10           25   1614610043\n",
       "11           26   1570846611\n",
       "13           28   1425090421\n",
       "6            20   1241532385\n",
       "12           27    531773343\n",
       "3            15    235592173\n",
       "1             2    200066074\n",
       "5            19    143746952\n",
       "14           29    115601623\n",
       "16           43     71549508\n",
       "15           30     17120490"
      ]
     },
     "execution_count": 16,
     "metadata": {},
     "output_type": "execute_result"
    }
   ],
   "source": [
    "#view count per category\n",
    "#ask = input('enter the category[views , likes , dislikes , comment_count] to see the top 10 category : ')\n",
    "#we can ask choice directly to make work efficient\n",
    "view_category = yt.groupby('category_id')['views'].sum().reset_index().sort_values(by='views' , ascending=False)\n",
    "view_category\n",
    "# top 10 category which usually trends"
   ]
  },
  {
   "cell_type": "code",
   "execution_count": 17,
   "id": "99188688",
   "metadata": {},
   "outputs": [
    {
     "data": {
      "text/plain": [
       "<BarContainer object of 17 artists>"
      ]
     },
     "execution_count": 17,
     "metadata": {},
     "output_type": "execute_result"
    },
    {
     "data": {
      "image/png": "[encoded data removed]",
      "text/plain": [
       "<Figure size 640x480 with 1 Axes>"
      ]
     },
     "metadata": {},
     "output_type": "display_data"
    }
   ],
   "source": [
    "#graph of views per category\n",
    "plt.barh(view_category['category_id'] , view_category['views'] , color='blue')"
   ]
  },
  {
   "cell_type": "code",
   "execution_count": 18,
   "id": "f4b126b6",
   "metadata": {},
   "outputs": [
    {
     "name": "stdout",
     "output_type": "stream",
     "text": [
      "    category_id      likes\n",
      "2            10  564447530\n",
      "9            24  387245433\n",
      "8            23  196046674\n",
      "7            22  105388564\n",
      "0             1   77802003\n",
      "4            17   59449419\n",
      "6            20   51726552\n",
      "11           26   51183104\n",
      "13           28   42814598\n",
      "10           25   32705054\n",
      "12           27   20972402\n",
      "14           29   10242613\n",
      "3            15    8830736\n",
      "1             2    4732114\n",
      "5            19    3750914\n",
      "16           43     589263\n",
      "15           30     252905\n"
     ]
    },
    {
     "data": {
      "text/plain": [
       "<BarContainer object of 17 artists>"
      ]
     },
     "execution_count": 18,
     "metadata": {},
     "output_type": "execute_result"
    },
    {
     "data": {
      "image/png": "[encoded data removed]",
      "text/plain": [
       "<Figure size 640x480 with 1 Axes>"
      ]
     },
     "metadata": {},
     "output_type": "display_data"
    }
   ],
   "source": [
    "# top 10 category which usually trends and have most likes\n",
    "like_category = yt.groupby('category_id')['likes'].sum().reset_index().sort_values(by='likes' , ascending=False)\n",
    "print(like_category)\n",
    "\n",
    "#graph of likes per category\n",
    "plt.barh(like_category['category_id'] , like_category['likes'] , color='red')"
   ]
  },
  {
   "cell_type": "code",
   "execution_count": 19,
   "id": "d2f07acd",
   "metadata": {},
   "outputs": [
    {
     "name": "stdout",
     "output_type": "stream",
     "text": [
      "    category_id  dislikes\n",
      "9            24  25791583\n",
      "2            10  22098190\n",
      "7            22   9480796\n",
      "8            23   5372515\n",
      "4            17   3286369\n",
      "10           25   3264041\n",
      "0             1   3111259\n",
      "6            20   2446882\n",
      "14           29   2325807\n",
      "13           28   1791153\n",
      "11           26   1730520\n",
      "12           27    793448\n",
      "1             2    197776\n",
      "3            15    185003\n",
      "5            19    129861\n",
      "16           43    120436\n",
      "15           30     12280\n"
     ]
    },
    {
     "data": {
      "text/plain": [
       "<BarContainer object of 17 artists>"
      ]
     },
     "execution_count": 19,
     "metadata": {},
     "output_type": "execute_result"
    },
    {
     "data": {
      "image/png": "[encoded data removed]",
      "text/plain": [
       "<Figure size 640x480 with 1 Axes>"
      ]
     },
     "metadata": {},
     "output_type": "display_data"
    }
   ],
   "source": [
    "# top 10 category which usually trends and have most dislikes\n",
    "dislike_category = yt.groupby('category_id')['dislikes'].sum().reset_index().sort_values(by='dislikes' , ascending=False)\n",
    "print(dislike_category)\n",
    "\n",
    "#graph of likes per category\n",
    "plt.barh(dislike_category['category_id'] , dislike_category['dislikes'] , color='red')"
   ]
  },
  {
   "cell_type": "code",
   "execution_count": 20,
   "id": "0e9aaced",
   "metadata": {},
   "outputs": [
    {
     "data": {
      "text/html": [
       "<div>\n",
       "<style scoped>\n",
       "    .dataframe tbody tr th:only-of-type {\n",
       "        vertical-align: middle;\n",
       "    }\n",
       "\n",
       "    .dataframe tbody tr th {\n",
       "        vertical-align: top;\n",
       "    }\n",
       "\n",
       "    .dataframe thead th {\n",
       "        text-align: right;\n",
       "    }\n",
       "</style>\n",
       "<table border=\"1\" class=\"dataframe\">\n",
       "  <thead>\n",
       "    <tr style=\"text-align: right;\">\n",
       "      <th></th>\n",
       "      <th>category_id</th>\n",
       "      <th>trending_date</th>\n",
       "    </tr>\n",
       "  </thead>\n",
       "  <tbody>\n",
       "    <tr>\n",
       "      <th>9</th>\n",
       "      <td>24</td>\n",
       "      <td>13451</td>\n",
       "    </tr>\n",
       "    <tr>\n",
       "      <th>10</th>\n",
       "      <td>25</td>\n",
       "      <td>4159</td>\n",
       "    </tr>\n",
       "    <tr>\n",
       "      <th>7</th>\n",
       "      <td>22</td>\n",
       "      <td>4105</td>\n",
       "    </tr>\n",
       "    <tr>\n",
       "      <th>8</th>\n",
       "      <td>23</td>\n",
       "      <td>3773</td>\n",
       "    </tr>\n",
       "    <tr>\n",
       "      <th>2</th>\n",
       "      <td>10</td>\n",
       "      <td>3731</td>\n",
       "    </tr>\n",
       "    <tr>\n",
       "      <th>4</th>\n",
       "      <td>17</td>\n",
       "      <td>2787</td>\n",
       "    </tr>\n",
       "    <tr>\n",
       "      <th>0</th>\n",
       "      <td>1</td>\n",
       "      <td>2060</td>\n",
       "    </tr>\n",
       "    <tr>\n",
       "      <th>11</th>\n",
       "      <td>26</td>\n",
       "      <td>2007</td>\n",
       "    </tr>\n",
       "    <tr>\n",
       "      <th>6</th>\n",
       "      <td>20</td>\n",
       "      <td>1344</td>\n",
       "    </tr>\n",
       "    <tr>\n",
       "      <th>13</th>\n",
       "      <td>28</td>\n",
       "      <td>1155</td>\n",
       "    </tr>\n",
       "    <tr>\n",
       "      <th>12</th>\n",
       "      <td>27</td>\n",
       "      <td>991</td>\n",
       "    </tr>\n",
       "    <tr>\n",
       "      <th>5</th>\n",
       "      <td>19</td>\n",
       "      <td>392</td>\n",
       "    </tr>\n",
       "    <tr>\n",
       "      <th>3</th>\n",
       "      <td>15</td>\n",
       "      <td>369</td>\n",
       "    </tr>\n",
       "    <tr>\n",
       "      <th>1</th>\n",
       "      <td>2</td>\n",
       "      <td>353</td>\n",
       "    </tr>\n",
       "    <tr>\n",
       "      <th>16</th>\n",
       "      <td>43</td>\n",
       "      <td>124</td>\n",
       "    </tr>\n",
       "    <tr>\n",
       "      <th>14</th>\n",
       "      <td>29</td>\n",
       "      <td>74</td>\n",
       "    </tr>\n",
       "    <tr>\n",
       "      <th>15</th>\n",
       "      <td>30</td>\n",
       "      <td>6</td>\n",
       "    </tr>\n",
       "  </tbody>\n",
       "</table>\n",
       "</div>"
      ],
      "text/plain": [
       "    category_id  trending_date\n",
       "9            24          13451\n",
       "10           25           4159\n",
       "7            22           4105\n",
       "8            23           3773\n",
       "2            10           3731\n",
       "4            17           2787\n",
       "0             1           2060\n",
       "11           26           2007\n",
       "6            20           1344\n",
       "13           28           1155\n",
       "12           27            991\n",
       "5            19            392\n",
       "3            15            369\n",
       "1             2            353\n",
       "16           43            124\n",
       "14           29             74\n",
       "15           30              6"
      ]
     },
     "execution_count": 20,
     "metadata": {},
     "output_type": "execute_result"
    }
   ],
   "source": [
    "#numbers of times per category trends\n",
    "yt.groupby('category_id')['trending_date'].count().reset_index().sort_values(by='trending_date' , ascending=False)"
   ]
  },
  {
   "cell_type": "code",
   "execution_count": null,
   "id": "12723a92",
   "metadata": {},
   "outputs": [],
   "source": []
  }
 ],
 "metadata": {
  "kernelspec": {
   "display_name": "Python 3",
   "language": "python",
   "name": "python3"
  },
  "language_info": {
   "codemirror_mode": {
    "name": "ipython",
    "version": 3
   },
   "file_extension": ".py",
   "mimetype": "text/x-python",
   "name": "python",
   "nbconvert_exporter": "python",
   "pygments_lexer": "ipython3",
   "version": "3.12.4"
  }
 },
 "nbformat": 4,
 "nbformat_minor": 5
}
